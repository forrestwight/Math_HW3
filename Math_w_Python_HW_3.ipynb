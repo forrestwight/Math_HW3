{
  "nbformat": 4,
  "nbformat_minor": 0,
  "metadata": {
    "colab": {
      "provenance": []
    },
    "kernelspec": {
      "name": "python3",
      "display_name": "Python 3"
    },
    "language_info": {
      "name": "python"
    }
  },
  "cells": [
    {
      "cell_type": "markdown",
      "source": [
        "# Math w/ Python - HW #3\n",
        "Forrest Wight"
      ],
      "metadata": {
        "id": "F5msZCcGFZHu"
      }
    },
    {
      "cell_type": "code",
      "execution_count": 94,
      "metadata": {
        "colab": {
          "base_uri": "https://localhost:8080/"
        },
        "id": "1ma9pco3oXv5",
        "outputId": "9442621d-99f2-4133-e05c-f36228917463"
      },
      "outputs": [
        {
          "output_type": "stream",
          "name": "stdout",
          "text": [
            "The probability a steer is > 979 lbs is: 0.9458 or 94.58%\n"
          ]
        }
      ],
      "source": [
        "# QUESTION 1\n",
        "# Normal distribution of steers\n",
        "# Find probability that weight of a randomly selected steer is > 979 lbs\n",
        "# (rounded to four decimal places)\n",
        "\n",
        "import scipy.stats as stats\n",
        "\n",
        "var = 40000\n",
        "mean = 1300\n",
        "std = var**.5\n",
        "x = 979\n",
        "\n",
        "# With P(x_bar > 979) = P(z > ((979-mean)/std))\n",
        "Z = (x-mean)/std\n",
        "\n",
        "# Z = -1.6, meaning x is 1.6 SDs below the mean, therefore is a right tailed test\n",
        "p_value = 1-round(stats.norm.cdf(Z),4)\n",
        "p_value_percent = round(p_value*100, 2)\n",
        "print('The probability a steer is > 979 lbs is: ' + str(p_value) + ' or '\n",
        "      + str(p_value_percent) + '%')\n"
      ]
    },
    {
      "cell_type": "code",
      "source": [
        "# QUESTION 2\n",
        "# Normal distribution of monitor life spans\n",
        "# Find probability that life span will be > 8340 hours\n",
        "# (rounded to four decimal places)\n",
        "\n",
        "import scipy.stats as stats\n",
        "\n",
        "mean = 11000\n",
        "var = 1960000\n",
        "std = var**.5\n",
        "x = 8340\n",
        "\n",
        "# With P(x_bar > 8340) = P(Z > ((8340-mean)/std))\n",
        "Z = (x-mean)/std\n",
        "Z\n",
        "\n",
        "# Z = -1.9, meaning x is 1.6 SDs below the mean, therefore is a right tailed test\n",
        "p_value = 1-round(stats.norm.cdf(Z),4)\n",
        "p_value_percent = round(p_value*100, 2)\n",
        "print('The probability a monitor life is > 8340 hours is: ' + str(p_value)\n",
        "  + ' or ' + str(p_value_percent) + '%')"
      ],
      "metadata": {
        "colab": {
          "base_uri": "https://localhost:8080/"
        },
        "id": "rW6-h_zN0-Fn",
        "outputId": "670ca648-17b8-4f14-e078-de2768ba7015"
      },
      "execution_count": 95,
      "outputs": [
        {
          "output_type": "stream",
          "name": "stdout",
          "text": [
            "The probability a monitor life is > 8340 hours is: 0.9713 or 97.13%\n"
          ]
        }
      ]
    },
    {
      "cell_type": "code",
      "source": [
        "# QUESTION 3\n",
        "# Normal distribution of incomes\n",
        "# Find probability of income between 83 - 85 million\n",
        "\n",
        "import scipy.stats as stats\n",
        "\n",
        "mean = 80\n",
        "std = 3\n",
        "x1 = 83\n",
        "x2 = 85\n",
        "\n",
        "# With P(85 > x_bar > 83) = P(((85-mean)/std) > Z > ((83-mean)/std))\n",
        "Z1 = (x1-mean)/std # For 83 mil\n",
        "Z2 = (x2-mean)/std # For 85 mil\n",
        "\n",
        "# Calculate probability of lower and upper limits\n",
        "p_value1 = round(stats.norm.cdf(Z1),4)\n",
        "p_value2 = round(stats.norm.cdf(Z2),4)\n",
        "\n",
        "# Subtract probability of lower limit from upper limit\n",
        "p_value = p_value2 - p_value1\n",
        "p_value_percent = round(p_value*100, 2)\n",
        "print('The probability income is >$83 million and <$85 million is: '\n",
        "      + str(p_value) + ' or ' + str(p_value_percent) + '%')"
      ],
      "metadata": {
        "colab": {
          "base_uri": "https://localhost:8080/"
        },
        "id": "dpmhcjr6ACPh",
        "outputId": "29d6e2b4-6802-4dd2-bf65-bb7d339f2699"
      },
      "execution_count": 98,
      "outputs": [
        {
          "output_type": "stream",
          "name": "stdout",
          "text": [
            "The probability income is >$83 million and <$85 million is: 0.1109 or 11.09%\n"
          ]
        }
      ]
    },
    {
      "cell_type": "code",
      "source": [
        "# QUESTION 4\n",
        "# Normally distributed GRE Verbal scores\n",
        "# Find score that denotes the top 14% of all scores\n",
        "\n",
        "import scipy.stats as stats\n",
        "\n",
        "mean = 456\n",
        "std = 123\n",
        "p_value = 0.86\n",
        "\n",
        "# Find Z-score associated with top 14% (p = 1 - 0.14) = 0.86\n",
        "Z = stats.norm.ppf(p_value)\n",
        "\n",
        "# Rearrange Z = (x-mean)/std to solve for x\n",
        "x = round((Z * std) + mean)\n",
        "\n",
        "print('The minimum GRE Verbal score required for the job offer is: ' + str(x))"
      ],
      "metadata": {
        "colab": {
          "base_uri": "https://localhost:8080/"
        },
        "id": "AGKeh6PKG4V0",
        "outputId": "ea311060-7c73-4de2-af3d-e0de76120353"
      },
      "execution_count": 97,
      "outputs": [
        {
          "output_type": "stream",
          "name": "stdout",
          "text": [
            "The minimum GRE Verbal score required for the job offer is: 589\n"
          ]
        }
      ]
    },
    {
      "cell_type": "code",
      "source": [
        "# QUESTION 5\n",
        "# Normal distribution of nails produced\n",
        "# Find length of nails that mark bottom 7% and top 7%\n",
        "\n",
        "import numpy as np\n",
        "import scipy.stats as stats\n",
        "\n",
        "mean = 6.13\n",
        "std = 0.06\n",
        "\n",
        "# For bottom 7%, p = 0.07 / For top 7%, p = (1 - 0.07) = 0.93\n",
        "p_value1 = 0.07\n",
        "p_value2 = 0.93\n",
        "\n",
        "# Find Z-scores for corresponding p values\n",
        "Z1 = stats.norm.ppf(p_value1)\n",
        "Z2 = stats.norm.ppf(p_value2)\n",
        "\n",
        "# Nail lengths that correspond to bottom 7%, top 7%\n",
        "x1 = round((Z1 * std) + mean,2)\n",
        "x2 = round((Z2 * std) + mean,2)\n",
        "\n",
        "print('The nail length that corresponds to the bottom 7% is: ' + str(x1)\n",
        "  + 'cm, \\nand the nail length that corresponds to the top 7% is: ' + str(x2)\n",
        "  + ' cm')"
      ],
      "metadata": {
        "colab": {
          "base_uri": "https://localhost:8080/"
        },
        "id": "v9UJf9hVJPO3",
        "outputId": "798c426f-fd39-40b5-af73-600a4511fa06"
      },
      "execution_count": 99,
      "outputs": [
        {
          "output_type": "stream",
          "name": "stdout",
          "text": [
            "The nail length that corresponds to the bottom 7% is: 6.04cm, \n",
            "and the nail length that corresponds to the top 7% is: 6.22 cm\n"
          ]
        }
      ]
    },
    {
      "cell_type": "code",
      "source": [
        "# QUESTION 6\n",
        "# Normal distribution of grades\n",
        "# Find the grades that correspond to a C letter grade\n",
        "\n",
        "import scipy.stats as stats\n",
        "\n",
        "# p-values for each letter grade's lower limit\n",
        "p_valueA = 0.87\n",
        "p_valueB = 0.55\n",
        "p_valueC = 0.2\n",
        "p_valueD = 0.09\n",
        "p_valueF = 0.00\n",
        "\n",
        "mean = 78.8\n",
        "std = 9.8\n",
        "\n",
        "# Range of grades for a C is < p_valueB, and > p_valueC\n",
        "Z_B = stats.norm.ppf(p_valueB)\n",
        "Z_C = stats.norm.ppf(p_valueC)\n",
        "\n",
        "x_B = round((Z_B * std) + mean)\n",
        "x_C = round((Z_C * std) + mean)\n",
        "\n",
        "print('The grade that corresponds to the upper limit of a C is: ' + str(x_B)\n",
        "  + ', \\nand the grade that corresponds to the lower limit of a C is: '\n",
        "  + str(x_C))"
      ],
      "metadata": {
        "colab": {
          "base_uri": "https://localhost:8080/"
        },
        "id": "3kjW8PxvLIZC",
        "outputId": "a86d7a13-b9ef-43a9-8d37-f77568efc59e"
      },
      "execution_count": 100,
      "outputs": [
        {
          "output_type": "stream",
          "name": "stdout",
          "text": [
            "The grade that corresponds to the upper limit of a C is: 80, \n",
            "and the grade that corresponds to the lower limit of a C is: 71\n"
          ]
        }
      ]
    },
    {
      "cell_type": "code",
      "source": [
        "# QUESTION 7\n",
        "# Normally distributed ACT scores\n",
        "# Find minimum score to be in top 45%\n",
        "\n",
        "import scipy.stats as stats\n",
        "\n",
        "mean = 21.2\n",
        "std = 5.4\n",
        "\n",
        "# p-value for top 45%: p = (1 - 0.45) = 0.55\n",
        "p_value = 0.55\n",
        "\n",
        "Z = stats.norm.ppf(p_value)\n",
        "\n",
        "x = round((Z * std) + mean, 1)\n",
        "\n",
        "print('The ACT Composite score which is the minimum to be admitted is: '\n",
        "  + str(x))"
      ],
      "metadata": {
        "colab": {
          "base_uri": "https://localhost:8080/"
        },
        "id": "buumcPlO1y52",
        "outputId": "90a88c7f-c889-4c52-dd7e-21b6c3772e86"
      },
      "execution_count": 101,
      "outputs": [
        {
          "output_type": "stream",
          "name": "stdout",
          "text": [
            "The ACT Composite score which is the minimum to be admitted is: 21.9\n"
          ]
        }
      ]
    },
    {
      "cell_type": "code",
      "source": [
        "# QUESTION 8\n",
        "# Binomial distribution of graduates\n",
        "# Find probability that <11 of 151 student don't graduate,\n",
        "# using normal distribution\n",
        "\n",
        "import scipy.stats as stats\n",
        "\n",
        "# Probability of <11 'successes' == not graduating, k = 10\n",
        "k = 10\n",
        "N = 151\n",
        "p = 0.09\n",
        "\n",
        "# Probability that less than 11 students will not graduate\n",
        "p_value = round(stats.binom.cdf(k, N, p),4)\n",
        "p_value_percent = round(p_value*100, 2)\n",
        "\n",
        "print('The probability that <11 students graduate is: ' + str(p_value)\n",
        "  + ' or ' + str(p_value_percent) + '%')"
      ],
      "metadata": {
        "colab": {
          "base_uri": "https://localhost:8080/"
        },
        "id": "nKeVLT302sYN",
        "outputId": "655f6d80-61e2-45f5-a9ab-cf5afc2082dc"
      },
      "execution_count": 102,
      "outputs": [
        {
          "output_type": "stream",
          "name": "stdout",
          "text": [
            "The probability that <11 students graduate is: 0.192 or 19.2%\n"
          ]
        }
      ]
    },
    {
      "cell_type": "code",
      "source": [
        "# QUESTION 9\n",
        "# Central limit theorem for tire lifetimes\n",
        "# Find probability that mean is >48.83 months for N = 147\n",
        "\n",
        "import scipy.stats as stats\n",
        "\n",
        "mean = 48\n",
        "std = 7\n",
        "\n",
        "N = 147\n",
        "\n",
        "# Find standard deviation of new mean\n",
        "mean_N = 48.83\n",
        "std_N = std/(N)**.5\n",
        "\n",
        "# Find Z for probability of new mean,  Z = (x - mean) * sqrt(N)/std\n",
        "Z = (mean_N-mean)*((N)**.5)/std\n",
        "\n",
        "# Probability of mean > 48.83 months for N = 147\n",
        "p_value = round(stats.norm.sf(Z),4)\n",
        "p_value_percent = round(p_value*100, 2)\n",
        "\n",
        "print('The probability the mean tire lifetime of a sample of size '\n",
        "      + str(N) + ' is >48.83 months is: ' + str(p_value) + ' or '\n",
        "      + str(p_value_percent) + '%')"
      ],
      "metadata": {
        "colab": {
          "base_uri": "https://localhost:8080/"
        },
        "id": "NvM83hMscaBg",
        "outputId": "f4acd42c-f826-4390-cc14-ac73865eed6b"
      },
      "execution_count": 103,
      "outputs": [
        {
          "output_type": "stream",
          "name": "stdout",
          "text": [
            "The probability the mean tire lifetime of a sample of size 147 is >48.83 months is: 0.0753 or 7.53%\n"
          ]
        }
      ]
    },
    {
      "cell_type": "code",
      "source": [
        "# QUESTION 10\n",
        "# Binomial distribution of computer lifetimes\n",
        "# Find probability that mean is >93.54 months for N = 68\n",
        "\n",
        "import scipy.stats as stats\n",
        "\n",
        "mean = 91\n",
        "std = 10\n",
        "\n",
        "N = 68\n",
        "\n",
        "# Find standard deviation of new mean\n",
        "mean_N = 93.54\n",
        "SE = std/(N)**.5\n",
        "\n",
        "# Find Z for probability of new mean,  Z = (x - mean) * sqrt(N)/std\n",
        "Z = (mean_N-mean)*((N)**.5)/std\n",
        "\n",
        "# Probability of mean >93.54 months for N = 68\n",
        "p_value = round(stats.norm.sf(Z),4)\n",
        "p_value_percent = round(p_value*100, 2)\n",
        "\n",
        "print('The probability the mean computer life of a sample of size '\n",
        "      + str(N) + ' is >93.54 months is: ' + str(p_value) + ' or '\n",
        "      + str(p_value_percent) + '%')"
      ],
      "metadata": {
        "colab": {
          "base_uri": "https://localhost:8080/"
        },
        "id": "BdNVIvUAg6Gj",
        "outputId": "f29d2be8-54e6-4ac3-89f1-1cb1500781f4"
      },
      "execution_count": 104,
      "outputs": [
        {
          "output_type": "stream",
          "name": "stdout",
          "text": [
            "The probability the mean computer life of a sample of size 68 is >93.54 months is: 0.0181 or 1.81%\n"
          ]
        }
      ]
    },
    {
      "cell_type": "code",
      "source": [
        "# QUESTION 11\n",
        "# Central limit theorem of no-shows\n",
        "# Find probability that >4% and <10% are no-shows for N = 540\n",
        "\n",
        "import scipy.stats as stats\n",
        "\n",
        "mean = 0.07\n",
        "N = 540\n",
        "diff = 0.03\n",
        "\n",
        "mean_low = (mean - diff)\n",
        "mean_high = (mean + diff)\n",
        "\n",
        "# Standard deviation is defined as SD = sqrt((p*(1-p))/N)\n",
        "std = ((mean*(1 - mean))/N)**.5\n",
        "\n",
        "# Find Z for probability of low and high range means\n",
        "Z1 = (mean_high-mean)/std\n",
        "Z2 = (mean_low-mean)/std\n",
        "\n",
        "\n",
        "# Probability of mean = 0.04, 0.10\n",
        "p_value1 = round(stats.norm.sf(Z1),4)\n",
        "p_value2 = round(stats.norm.sf(Z2),4)\n",
        "\n",
        "# Subtract probability of low (mean = 0.04) from high (mean = 0.10)\n",
        "p_value = p_value2 - p_value1\n",
        "p_value_percent = round(p_value*100, 2)\n",
        "print('The probability of 7% +/- 3% ticket holder no shows is: '\n",
        "      + str(p_value) + ' or ' + str(p_value_percent) + '%')\n"
      ],
      "metadata": {
        "colab": {
          "base_uri": "https://localhost:8080/"
        },
        "id": "Quo4-Z8_iF5I",
        "outputId": "c726a169-3edf-46f7-87ca-3c0afae07b34"
      },
      "execution_count": 105,
      "outputs": [
        {
          "output_type": "stream",
          "name": "stdout",
          "text": [
            "The probability of 7% +/- 3% ticket holder no shows is: 0.9938 or 99.38%\n"
          ]
        }
      ]
    },
    {
      "cell_type": "code",
      "source": [
        "# QUESTION 12\n",
        "# Central limit theorem of broken bottles\n",
        "# Find probability that <19% and >27% of bottles broken\n",
        "\n",
        "import scipy.stats as stats\n",
        "\n",
        "mean = 0.23\n",
        "N = 602\n",
        "diff = 0.04\n",
        "\n",
        "mean_low = mean - diff\n",
        "mean_high = mean + diff\n",
        "\n",
        "# Standard deviation is defined as SD = sqrt((p*(1-p))/N)\n",
        "std = ((mean*(1 - mean))/N)**.5\n",
        "\n",
        "# Use Z = (x - mean) / std to find difference in Z for +/- 4%\n",
        "Z1 = (mean_high-mean)/std # above this point\n",
        "Z2 = (mean_low-mean)/std # below this point\n",
        "\n",
        "# Use (1 - p_value1) to find area above 27%, use p_value2 for below 19%\n",
        "p_value1 = 1 - round(stats.norm.cdf(Z1),4)\n",
        "p_value2 = round(stats.norm.cdf(Z2),4)\n",
        "\n",
        "# Add probability of below (mean = 0.19) to 1 - above (mean = 0.27)\n",
        "p_value = round(p_value1 + p_value2,4)\n",
        "p_value_percent = round(p_value*100, 2)\n",
        "print('The probability of <19% and >27% broken bottles is: '\n",
        "      + str(p_value) + ' or ' + str(p_value_percent) + '%')"
      ],
      "metadata": {
        "colab": {
          "base_uri": "https://localhost:8080/"
        },
        "id": "MIT1iynCodNF",
        "outputId": "cc310f3d-b7cc-46e8-e79c-6f5dc961f6c0"
      },
      "execution_count": 106,
      "outputs": [
        {
          "output_type": "stream",
          "name": "stdout",
          "text": [
            "The probability of <19% and >27% broken bottles is: 0.0196 or 1.96%\n"
          ]
        }
      ]
    },
    {
      "cell_type": "code",
      "source": [
        "# QUESTION 13\n",
        "# Find values for 80% confidence interval for consumption of beef\n",
        "\n",
        "import scipy.stats as stats\n",
        "\n",
        "N = 208\n",
        "mean_N = 3.9\n",
        "std = 0.8\n",
        "\n",
        "# p_value2 - p_value1 = 0.8, for 80% confidence interval\n",
        "p_value1 = 0.1\n",
        "p_value2 = 0.9\n",
        "\n",
        "# Z-scores are ~ -1.28 and 1.28\n",
        "Z1 = stats.norm.ppf(p_value1)\n",
        "Z2 = stats.norm.ppf(p_value2)\n",
        "\n",
        "# Confidence interval will be = mean +/- Z * (std/sqrt(N))\n",
        "C1 = round(mean_N + Z1 * (std/((N)**.5)),1)\n",
        "C2 = round(mean_N + Z2 * (std/((N)**.5)),1)\n",
        "\n",
        "print('The lower bound of beef consumption is: ' + str(C1)\n",
        "  + ' and the upper bound is: ' + str(C2))"
      ],
      "metadata": {
        "id": "kE7L3xJjVtDP",
        "colab": {
          "base_uri": "https://localhost:8080/"
        },
        "outputId": "729efb00-de69-4199-fc5f-62a201b4e575"
      },
      "execution_count": 107,
      "outputs": [
        {
          "output_type": "stream",
          "name": "stdout",
          "text": [
            "The lower bound of beef consumption is: 3.8 and the upper bound is: 4.0\n"
          ]
        }
      ]
    },
    {
      "cell_type": "code",
      "source": [
        "# QUESTION 14\n",
        "# Find values for 98% condfidence interval for income\n",
        "\n",
        "import scipy.stats as stats\n",
        "\n",
        "N = 7472\n",
        "mean_N = 16.6\n",
        "std = 11\n",
        "\n",
        "# p_value2 - p_value1 = 0.98, for 98% confidence interval\n",
        "p_value1 = 0.01\n",
        "p_value2 = 0.99\n",
        "\n",
        "# Z-scores are ~ -2.33 and 2.33\n",
        "Z1 = stats.norm.ppf(p_value1)\n",
        "Z2 = stats.norm.ppf(p_value2)\n",
        "\n",
        "# Confidence interval will be = mean +/- Z * (std/sqrt(N))\n",
        "C1 = round(mean_N + Z1 * (std/((N)**.5)),1)\n",
        "C2 = round(mean_N + Z2 * (std/((N)**.5)),1)\n",
        "\n",
        "print('The lower bound of income is: ' + str(C1)\n",
        "  + ' and the upper bound is: ' + str(C2))"
      ],
      "metadata": {
        "colab": {
          "base_uri": "https://localhost:8080/"
        },
        "id": "BQIU_0i2eLjF",
        "outputId": "93c9f8b0-28ee-4675-ed9a-a2ebf17127e9"
      },
      "execution_count": 108,
      "outputs": [
        {
          "output_type": "stream",
          "name": "stdout",
          "text": [
            "The lower bound of income is: 16.3 and the upper bound is: 16.9\n"
          ]
        }
      ]
    },
    {
      "cell_type": "code",
      "source": [
        "# QUESTION 15\n",
        "# Find t-value so 0.05 is to the left\n",
        "\n",
        "import scipy.stats as stats\n",
        "\n",
        "alpha = 0.05\n",
        "DoF = 26\n",
        "\n",
        "print('The picture that best describes this problem is the upper right picture')\n",
        "\n",
        "# Use stats.t.ppf to find t-value\n",
        "\n",
        "t_value = stats.t.ppf(alpha, DoF)\n",
        "\n",
        "print('\\nThe t-value associated with an alpha of 0.05 is: ' + str(t_value))"
      ],
      "metadata": {
        "colab": {
          "base_uri": "https://localhost:8080/"
        },
        "id": "YKicaSxAe-JY",
        "outputId": "6ccb5fd7-d946-4033-99dc-8aec8349b4ff"
      },
      "execution_count": 109,
      "outputs": [
        {
          "output_type": "stream",
          "name": "stdout",
          "text": [
            "The picture that best describes this problem is the upper right picture\n",
            "\n",
            "The t-value associated with an alpha of 0.05 is: -1.7056179197592731\n"
          ]
        }
      ]
    },
    {
      "cell_type": "code",
      "source": [
        "# QUESTION 16\n",
        "# Find sample mean, sample SD, critical value for CI, and lower/upper bounds\n",
        "# of the CI for sample data: [ 383.6, 347.1, 371.9, 347.6, 325.8, 337 ]\n",
        "\n",
        "import scipy.stats as stats\n",
        "import numpy as np\n",
        "\n",
        "# Create data array for analysis\n",
        "data = np.array([383.6, 347.1, 371.9, 347.6, 325.8, 337])\n",
        "N = len(data)\n",
        "\n",
        "# Degrees of Freedom is N - 1\n",
        "DoF = N - 1\n",
        "# alpha for 90% confidence is 0.05 and 0.95\n",
        "alpha1 = 0.05\n",
        "alpha2 = 0.95\n",
        "\n",
        "# Calculate mean using numpy function\n",
        "mean = round(np.mean(data),2)\n",
        "print('The mean of the data is: ' + str(mean))\n",
        "\n",
        "# Calculate standard deviation using numpy function, ddof = 1 for SD\n",
        "std = round(np.std(data,ddof=1),2)\n",
        "print('The standard deviation of the data is: ' + str(std))\n",
        "\n",
        "# Calculate critical value\n",
        "C1 = round(stats.t.ppf(alpha1,DoF),3)\n",
        "C2 = round(stats.t.ppf(alpha2,DoF),3)\n",
        "print('The critical value of the data is: +/-' + str(C2))\n",
        "\n",
        "x1 = round(mean + C1 * std/(N**.5),2)\n",
        "x2 = round(mean + C2 * std/(N**.5),2)\n",
        "\n",
        "print('The 90% CI lower bound of the data is: ' + str(x1)\n",
        "  + ' and the 90% CI upper bound is: ' + str(x2))"
      ],
      "metadata": {
        "colab": {
          "base_uri": "https://localhost:8080/"
        },
        "id": "SfKjfGs7mQZp",
        "outputId": "fe025887-5df6-4e6e-d3d4-f36a63d9f3fa"
      },
      "execution_count": 110,
      "outputs": [
        {
          "output_type": "stream",
          "name": "stdout",
          "text": [
            "The mean of the data is: 352.17\n",
            "The standard deviation of the data is: 21.68\n",
            "The critical value of the data is: +/-2.015\n",
            "The 90% CI lower bound of the data is: 334.34 and the 90% CI upper bound is: 370.0\n"
          ]
        }
      ]
    },
    {
      "cell_type": "code",
      "source": [
        "# QUESTION 17\n",
        "# Find critical value and CI of wheat yeild\n",
        "\n",
        "import scipy.stats as stats\n",
        "import numpy as np\n",
        "\n",
        "N = 16\n",
        "mean_N = 46.4\n",
        "std = 2.45\n",
        "\n",
        "alpha1 = 0.1\n",
        "alpha2 = 0.9\n",
        "DoF = N - 1\n",
        "\n",
        "# Calculate critical value\n",
        "C1 = round(stats.t.ppf(alpha1,DoF),3)\n",
        "C2 = round(stats.t.ppf(alpha2,DoF),3)\n",
        "print('The critical value of the data is: +/-' + str(C2))\n",
        "\n",
        "x1 = round(mean_N + C1 * std/(N**.5),1)\n",
        "x2 = round(mean_N + C2 * std/(N**.5),1)\n",
        "\n",
        "print('The 80% CI lower bound of the data is: ' + str(x1)\n",
        "  + ' and the 80% CI upper bound is: ' + str(x2))"
      ],
      "metadata": {
        "colab": {
          "base_uri": "https://localhost:8080/"
        },
        "id": "A6QFRGM77pZ9",
        "outputId": "8cf1772b-3b4b-42e5-e15b-bc85fc7f7748"
      },
      "execution_count": 111,
      "outputs": [
        {
          "output_type": "stream",
          "name": "stdout",
          "text": [
            "The critical value of the data is: +/-1.341\n",
            "The 80% CI lower bound of the data is: 45.6 and the 80% CI upper bound is: 47.2\n"
          ]
        }
      ]
    },
    {
      "cell_type": "code",
      "source": [
        "# QUESTION 18\n",
        "# Find sample size N to satisfy 99% CI with error <= 0.13\n",
        "\n",
        "import scipy.stats as stats\n",
        "import numpy as np\n",
        "import math\n",
        "\n",
        "mean = 8\n",
        "std = 1.9\n",
        "CI = 0.99\n",
        "SE = 0.13\n",
        "\n",
        "# Find Z score from CI\n",
        "Z = stats.norm.ppf((1 - (1 - CI)/2))\n",
        "\n",
        "# Find sample size using equation: N = ((Z * std)/SE)^2\n",
        "N = math.ceil(((Z * std)/SE)**2)\n",
        "\n",
        "print('The sample size required for a 99% CI is: ' + str(N))"
      ],
      "metadata": {
        "colab": {
          "base_uri": "https://localhost:8080/"
        },
        "id": "RWJE_om_8nh9",
        "outputId": "ba02f5bf-a0e4-4dd4-8ad5-f40e120676e4"
      },
      "execution_count": 112,
      "outputs": [
        {
          "output_type": "stream",
          "name": "stdout",
          "text": [
            "The sample size required for a 99% CI is: 1418\n"
          ]
        }
      ]
    },
    {
      "cell_type": "code",
      "source": [
        "# QUESTION 19\n",
        "# Find sample size N to satisfy 95% CI with error <= 0.19\n",
        "\n",
        "import scipy.stats as stats\n",
        "import numpy as np\n",
        "import math\n",
        "\n",
        "mean = 12.6\n",
        "var = 3.61\n",
        "std = var**.5\n",
        "CI = 0.95\n",
        "SE = 0.19\n",
        "\n",
        "# Find Z score from CI\n",
        "Z = stats.norm.ppf((1 - (1 - CI)/2))\n",
        "\n",
        "# Find sample size using equation: N = ((Z * std)/SE)^2\n",
        "N = math.ceil(((Z * std)/SE)**2)\n",
        "\n",
        "print('The sample size required for a 95% CI is: ' + str(N))"
      ],
      "metadata": {
        "colab": {
          "base_uri": "https://localhost:8080/"
        },
        "id": "qNLp6qn98nij",
        "outputId": "31585e12-c244-4b43-f3e1-d1649046c291"
      },
      "execution_count": 113,
      "outputs": [
        {
          "output_type": "stream",
          "name": "stdout",
          "text": [
            "The sample size required for a 95% CI is: 385\n"
          ]
        }
      ]
    },
    {
      "cell_type": "code",
      "source": [
        "# QUESTION 20\n",
        "# Find proportion of 10th graders reading at/below 8th grade level,\n",
        "# create 98% CI\n",
        "\n",
        "import scipy.stats as stats\n",
        "import numpy as np\n",
        "import math\n",
        "\n",
        "N = 2089\n",
        "s_above = 1734\n",
        "s_below = N - s_above\n",
        "CI = 0.98\n",
        "alpha1 = 0.01\n",
        "alpha2 = 0.99\n",
        "DoF = N - 1\n",
        "\n",
        "p_below = round(s_below/N,3)\n",
        "print('The proportion of students reading at or below 8th grade level is: '\n",
        "      + str(p_below))\n",
        "\n",
        "# Calculate standard error\n",
        "SE = (p_below * (1 - p_below) / N)**.5\n",
        "\n",
        "# Calculate critical value\n",
        "C1 = round(stats.t.ppf(alpha1,DoF),3)\n",
        "C2 = round(stats.t.ppf(alpha2,DoF),3)\n",
        "print('The critical value of the data is: +/-' + str(C2))\n",
        "\n",
        "x1 = round(p_below + C1 * SE,3)\n",
        "x2 = round(p_below + C2 * SE,3)\n",
        "print('The 98% CI lower bound of the data is: ' + str(x1)\n",
        "  + ' and the 98% CI upper bound is: ' + str(x2))"
      ],
      "metadata": {
        "colab": {
          "base_uri": "https://localhost:8080/"
        },
        "id": "Munq_uovBLlE",
        "outputId": "a21133e3-89a6-4584-a630-032446d7f024"
      },
      "execution_count": 114,
      "outputs": [
        {
          "output_type": "stream",
          "name": "stdout",
          "text": [
            "The proportion of students reading at or below 8th grade level is: 0.17\n",
            "The critical value of the data is: +/-2.328\n",
            "The 98% CI lower bound of the data is: 0.151 and the 98% CI upper bound is: 0.189\n"
          ]
        }
      ]
    },
    {
      "cell_type": "code",
      "source": [
        "# QUESTION 21\n",
        "# Find fraction of oil tankers that have spills each month\n",
        "\n",
        "import scipy.stats as stats\n",
        "import numpy as np\n",
        "import math\n",
        "\n",
        "N = 474\n",
        "spill = 156\n",
        "CI = 0.95\n",
        "alpha1 = 0.025\n",
        "alpha2 = 0.975\n",
        "DoF = N - 1\n",
        "\n",
        "p_spill = round(spill/N,3)\n",
        "print('The proportion of tankers that had spills is: ' + str(p_below))\n",
        "\n",
        "# Calculate standard error\n",
        "SE = (p_spill * (1 - p_spill) / N)**.5\n",
        "\n",
        "# Calculate critical value\n",
        "C1 = (stats.t.ppf(alpha1,DoF))\n",
        "C2 = stats.t.ppf(alpha2,DoF)\n",
        "print('The critical value of the data is: +/-' + str(round(C2,3)))\n",
        "\n",
        "x1 = round(p_spill + C1 * SE,3)\n",
        "x2 = round(p_spill + C2 * SE,3)\n",
        "print('The 95% CI lower bound of the data is: ' + str(x1)\n",
        "  + ' and the 95% CI upper bound is: ' + str(x2))"
      ],
      "metadata": {
        "colab": {
          "base_uri": "https://localhost:8080/"
        },
        "id": "vO-DrGTHEIcl",
        "outputId": "8c2493d9-5f94-47a3-db01-28e0c690893a"
      },
      "execution_count": 115,
      "outputs": [
        {
          "output_type": "stream",
          "name": "stdout",
          "text": [
            "The proportion of tankers that had spills is: 0.17\n",
            "The critical value of the data is: +/-1.965\n",
            "The 95% CI lower bound of the data is: 0.287 and the 95% CI upper bound is: 0.371\n"
          ]
        }
      ]
    }
  ]
}